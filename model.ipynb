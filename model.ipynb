{
 "cells": [
  {
   "cell_type": "code",
   "execution_count": 1,
   "id": "b79f8b8a",
   "metadata": {},
   "outputs": [
    {
     "name": "stdout",
     "output_type": "stream",
     "text": [
      "Libraries imported.\n"
     ]
    }
   ],
   "source": [
    "import numpy as np\n",
    "import pandas as pd\n",
    "import matplotlib.pyplot as plt\n",
    "import seaborn as sns\n",
    "import warnings\n",
    "warnings.filterwarnings('ignore')\n",
    "print('Libraries imported.')\n",
    "from sklearn.model_selection import train_test_split"
   ]
  },
  {
   "cell_type": "code",
   "execution_count": 2,
   "id": "b607a68d",
   "metadata": {},
   "outputs": [
    {
     "data": {
      "text/html": [
       "<div>\n",
       "<style scoped>\n",
       "    .dataframe tbody tr th:only-of-type {\n",
       "        vertical-align: middle;\n",
       "    }\n",
       "\n",
       "    .dataframe tbody tr th {\n",
       "        vertical-align: top;\n",
       "    }\n",
       "\n",
       "    .dataframe thead th {\n",
       "        text-align: right;\n",
       "    }\n",
       "</style>\n",
       "<table border=\"1\" class=\"dataframe\">\n",
       "  <thead>\n",
       "    <tr style=\"text-align: right;\">\n",
       "      <th></th>\n",
       "      <th>Type</th>\n",
       "      <th>Machine failure</th>\n",
       "      <th>Rotational_speed_rpm</th>\n",
       "      <th>Torque_Nm</th>\n",
       "      <th>Tool_wear_min</th>\n",
       "      <th>Air_temperature</th>\n",
       "      <th>Process_temperature</th>\n",
       "      <th>type_of_failure</th>\n",
       "    </tr>\n",
       "  </thead>\n",
       "  <tbody>\n",
       "    <tr>\n",
       "      <th>0</th>\n",
       "      <td>1.0</td>\n",
       "      <td>0</td>\n",
       "      <td>0.222934</td>\n",
       "      <td>0.535714</td>\n",
       "      <td>0.000000</td>\n",
       "      <td>0.304348</td>\n",
       "      <td>0.358025</td>\n",
       "      <td>5</td>\n",
       "    </tr>\n",
       "    <tr>\n",
       "      <th>1</th>\n",
       "      <td>0.0</td>\n",
       "      <td>0</td>\n",
       "      <td>0.139697</td>\n",
       "      <td>0.583791</td>\n",
       "      <td>0.011858</td>\n",
       "      <td>0.315217</td>\n",
       "      <td>0.370370</td>\n",
       "      <td>5</td>\n",
       "    </tr>\n",
       "    <tr>\n",
       "      <th>2</th>\n",
       "      <td>0.0</td>\n",
       "      <td>0</td>\n",
       "      <td>0.192084</td>\n",
       "      <td>0.626374</td>\n",
       "      <td>0.019763</td>\n",
       "      <td>0.304348</td>\n",
       "      <td>0.345679</td>\n",
       "      <td>5</td>\n",
       "    </tr>\n",
       "    <tr>\n",
       "      <th>3</th>\n",
       "      <td>0.0</td>\n",
       "      <td>0</td>\n",
       "      <td>0.154249</td>\n",
       "      <td>0.490385</td>\n",
       "      <td>0.027668</td>\n",
       "      <td>0.315217</td>\n",
       "      <td>0.358025</td>\n",
       "      <td>5</td>\n",
       "    </tr>\n",
       "    <tr>\n",
       "      <th>4</th>\n",
       "      <td>0.0</td>\n",
       "      <td>0</td>\n",
       "      <td>0.139697</td>\n",
       "      <td>0.497253</td>\n",
       "      <td>0.035573</td>\n",
       "      <td>0.315217</td>\n",
       "      <td>0.370370</td>\n",
       "      <td>5</td>\n",
       "    </tr>\n",
       "  </tbody>\n",
       "</table>\n",
       "</div>"
      ],
      "text/plain": [
       "   Type  Machine failure  Rotational_speed_rpm  Torque_Nm  Tool_wear_min  \\\n",
       "0   1.0                0              0.222934   0.535714       0.000000   \n",
       "1   0.0                0              0.139697   0.583791       0.011858   \n",
       "2   0.0                0              0.192084   0.626374       0.019763   \n",
       "3   0.0                0              0.154249   0.490385       0.027668   \n",
       "4   0.0                0              0.139697   0.497253       0.035573   \n",
       "\n",
       "   Air_temperature  Process_temperature  type_of_failure  \n",
       "0         0.304348             0.358025                5  \n",
       "1         0.315217             0.370370                5  \n",
       "2         0.304348             0.345679                5  \n",
       "3         0.315217             0.358025                5  \n",
       "4         0.315217             0.370370                5  "
      ]
     },
     "execution_count": 2,
     "metadata": {},
     "output_type": "execute_result"
    }
   ],
   "source": [
    "df = pd.read_csv('data_processed.csv')\n",
    "df.head()"
   ]
  },
  {
   "cell_type": "code",
   "execution_count": 3,
   "id": "a06ae9e0",
   "metadata": {},
   "outputs": [],
   "source": [
    "## separating train and test data\n",
    "\n",
    "X = df.drop(['Machine failure','type_of_failure'],axis=1)\n",
    "y = df['Machine failure']\n",
    "X_train, X_test, y_train, y_test = train_test_split(X, y, test_size=0.2, random_state=42)"
   ]
  },
  {
   "cell_type": "markdown",
   "id": "24f50784",
   "metadata": {},
   "source": [
    "### Predicting the machine failure, if the machine will fail or not\n",
    "We will be using 4 models here which are:\n",
    "1. Logistic Regression\n",
    "2. Support Vector Machine\n",
    "3. Decision Tree Classifier\n",
    "4. Random Forest Classifier"
   ]
  },
  {
   "cell_type": "code",
   "execution_count": 4,
   "id": "34970991",
   "metadata": {},
   "outputs": [],
   "source": [
    "from sklearn.linear_model import LogisticRegression\n",
    "from sklearn.svm import SVC\n",
    "from sklearn.tree import DecisionTreeClassifier\n",
    "from sklearn.ensemble import RandomForestClassifier\n",
    "from sklearn.metrics import accuracy_score, confusion_matrix, precision_score, recall_score, f1_score, classification_report\n",
    "\n",
    "lr = LogisticRegression()\n",
    "svc = SVC()\n",
    "dt = DecisionTreeClassifier()\n",
    "rf = RandomForestClassifier()\n",
    "\n",
    "models = [lr, svc, dt, rf]\n",
    "scores = []\n",
    "\n",
    "for m in models:\n",
    "    m.fit(X_train, y_train)\n",
    "    y_pred = m.predict(X_test)\n",
    "    acc = accuracy_score(y_test, y_pred) * 100\n",
    "    prec = precision_score(y_test, y_pred) * 100\n",
    "    rec = recall_score(y_test, y_pred) * 100\n",
    "    f1 = f1_score(y_test, y_pred) * 100\n",
    "    scores.append([acc, prec, rec, f1])"
   ]
  },
  {
   "cell_type": "code",
   "execution_count": 5,
   "id": "f2bc70e2",
   "metadata": {},
   "outputs": [
    {
     "data": {
      "text/html": [
       "<div>\n",
       "<style scoped>\n",
       "    .dataframe tbody tr th:only-of-type {\n",
       "        vertical-align: middle;\n",
       "    }\n",
       "\n",
       "    .dataframe tbody tr th {\n",
       "        vertical-align: top;\n",
       "    }\n",
       "\n",
       "    .dataframe thead th {\n",
       "        text-align: right;\n",
       "    }\n",
       "</style>\n",
       "<table border=\"1\" class=\"dataframe\">\n",
       "  <thead>\n",
       "    <tr style=\"text-align: right;\">\n",
       "      <th></th>\n",
       "      <th>Model</th>\n",
       "      <th>Accuracy</th>\n",
       "      <th>Precision</th>\n",
       "      <th>Recall</th>\n",
       "      <th>F1</th>\n",
       "    </tr>\n",
       "  </thead>\n",
       "  <tbody>\n",
       "    <tr>\n",
       "      <th>0</th>\n",
       "      <td>Logistic Regression</td>\n",
       "      <td>84.036951</td>\n",
       "      <td>86.526237</td>\n",
       "      <td>90.038911</td>\n",
       "      <td>88.247632</td>\n",
       "    </tr>\n",
       "    <tr>\n",
       "      <th>1</th>\n",
       "      <td>SVC</td>\n",
       "      <td>96.002763</td>\n",
       "      <td>94.939849</td>\n",
       "      <td>99.286641</td>\n",
       "      <td>97.064604</td>\n",
       "    </tr>\n",
       "    <tr>\n",
       "      <th>2</th>\n",
       "      <td>Decision Tree</td>\n",
       "      <td>99.015799</td>\n",
       "      <td>99.031758</td>\n",
       "      <td>99.494163</td>\n",
       "      <td>99.262422</td>\n",
       "    </tr>\n",
       "    <tr>\n",
       "      <th>3</th>\n",
       "      <td>Random Forest</td>\n",
       "      <td>99.222999</td>\n",
       "      <td>98.908858</td>\n",
       "      <td>99.935149</td>\n",
       "      <td>99.419355</td>\n",
       "    </tr>\n",
       "  </tbody>\n",
       "</table>\n",
       "</div>"
      ],
      "text/plain": [
       "                 Model   Accuracy  Precision     Recall         F1\n",
       "0  Logistic Regression  84.036951  86.526237  90.038911  88.247632\n",
       "1                  SVC  96.002763  94.939849  99.286641  97.064604\n",
       "2        Decision Tree  99.015799  99.031758  99.494163  99.262422\n",
       "3        Random Forest  99.222999  98.908858  99.935149  99.419355"
      ]
     },
     "execution_count": 5,
     "metadata": {},
     "output_type": "execute_result"
    }
   ],
   "source": [
    "scores_df = pd.DataFrame(columns=['Model'], data=['Logistic Regression', 'SVC', 'Decision Tree', 'Random Forest'])\n",
    "scores_df = pd.concat([scores_df, pd.DataFrame(scores, columns=['Accuracy', 'Precision', 'Recall', 'F1'])], axis=1)\n",
    "scores_df"
   ]
  },
  {
   "cell_type": "code",
   "execution_count": 6,
   "id": "e2f92b1f",
   "metadata": {},
   "outputs": [
    {
     "data": {
      "text/plain": [
       "'Random Forest'"
      ]
     },
     "execution_count": 6,
     "metadata": {},
     "output_type": "execute_result"
    }
   ],
   "source": [
    "best_model_idx = scores_df['F1'].idxmax()\n",
    "best_model = scores_df.loc[best_model_idx, 'Model']\n",
    "best_model"
   ]
  },
  {
   "cell_type": "code",
   "execution_count": 7,
   "id": "d0f4ef77",
   "metadata": {},
   "outputs": [
    {
     "data": {
      "text/plain": [
       "array([1, 0, 0, ..., 1, 0, 0])"
      ]
     },
     "execution_count": 7,
     "metadata": {},
     "output_type": "execute_result"
    }
   ],
   "source": [
    "rf = RandomForestClassifier()\n",
    "rf.fit(X_train, y_train)\n",
    "y_pred = lr.predict(X_test)\n",
    "y_pred"
   ]
  },
  {
   "cell_type": "code",
   "execution_count": 11,
   "id": "d0972573",
   "metadata": {},
   "outputs": [
    {
     "data": {
      "image/png": "[encoded data removed]",
      "text/plain": [
       "<Figure size 800x600 with 2 Axes>"
      ]
     },
     "metadata": {},
     "output_type": "display_data"
    }
   ],
   "source": [
    "cm = confusion_matrix(y_test, y_pred)\n",
    "\n",
    "# Plot confusion matrix using Matplotlib's imshow\n",
    "plt.figure(figsize=(8, 6))\n",
    "plt.imshow(cm, interpolation='nearest', cmap='Blues')\n",
    "plt.title('Confusion Matrix')\n",
    "plt.colorbar()\n",
    "tick_marks = np.arange(len(cm))\n",
    "plt.xticks(tick_marks, tick_marks)\n",
    "plt.yticks(tick_marks, tick_marks)\n",
    "plt.xlabel('Predicted')\n",
    "plt.ylabel('Actual')\n",
    "for i in range(len(cm)):\n",
    "    for j in range(len(cm)):\n",
    "        plt.text(j, i, cm[i, j], ha='center', va='center', color='black')\n",
    "plt.show()"
   ]
  },
  {
   "cell_type": "code",
   "execution_count": 9,
   "id": "82343dc0",
   "metadata": {},
   "outputs": [
    {
     "data": {
      "text/plain": [
       "['rf1.pkl']"
      ]
     },
     "execution_count": 9,
     "metadata": {},
     "output_type": "execute_result"
    }
   ],
   "source": [
    "# import joblib\n",
    "\n",
    "# filename = \"rf1.pkl\"\n",
    "# joblib.dump(rf,filename)"
   ]
  },
  {
   "cell_type": "code",
   "execution_count": 14,
   "id": "620859f8",
   "metadata": {},
   "outputs": [],
   "source": [
    "## Again separating the train test data\n",
    "X = df.drop(['Machine failure', 'type_of_failure'], axis=1)\n",
    "y = df['type_of_failure']\n",
    "\n",
    "X_train, X_test, y_train, y_test = train_test_split(X, y, test_size=0.2, random_state=42)"
   ]
  },
  {
   "cell_type": "code",
   "execution_count": 15,
   "id": "e19fa5a7",
   "metadata": {},
   "outputs": [],
   "source": [
    "from sklearn.linear_model import LogisticRegression\n",
    "from sklearn.svm import SVC\n",
    "from sklearn.tree import DecisionTreeClassifier\n",
    "from sklearn.ensemble import RandomForestClassifier\n",
    "from sklearn.metrics import accuracy_score, confusion_matrix, precision_score, recall_score, f1_score\n",
    "\n",
    "lr = LogisticRegression()\n",
    "svc = SVC()\n",
    "dt = DecisionTreeClassifier()\n",
    "rf = RandomForestClassifier()\n",
    "\n",
    "models = [lr, svc, dt, rf]\n",
    "scores = []\n",
    "\n",
    "for m in models:\n",
    "    m.fit(X_train, y_train)\n",
    "    y_pred = m.predict(X_test)\n",
    "    acc = accuracy_score(y_test, y_pred) * 100\n",
    "    prec = precision_score(y_test, y_pred, average='macro') * 100\n",
    "    rec = recall_score(y_test, y_pred, average='macro') * 100\n",
    "    f1 = f1_score(y_test, y_pred, average='macro') * 100\n",
    "    scores.append([acc, prec, rec, f1])"
   ]
  },
  {
   "cell_type": "code",
   "execution_count": 16,
   "id": "9ab250f1",
   "metadata": {},
   "outputs": [
    {
     "data": {
      "text/html": [
       "<div>\n",
       "<style scoped>\n",
       "    .dataframe tbody tr th:only-of-type {\n",
       "        vertical-align: middle;\n",
       "    }\n",
       "\n",
       "    .dataframe tbody tr th {\n",
       "        vertical-align: top;\n",
       "    }\n",
       "\n",
       "    .dataframe thead th {\n",
       "        text-align: right;\n",
       "    }\n",
       "</style>\n",
       "<table border=\"1\" class=\"dataframe\">\n",
       "  <thead>\n",
       "    <tr style=\"text-align: right;\">\n",
       "      <th></th>\n",
       "      <th>Model</th>\n",
       "      <th>Accuracy</th>\n",
       "      <th>Precision</th>\n",
       "      <th>Recall</th>\n",
       "      <th>F1</th>\n",
       "    </tr>\n",
       "  </thead>\n",
       "  <tbody>\n",
       "    <tr>\n",
       "      <th>0</th>\n",
       "      <td>Logistic Regression</td>\n",
       "      <td>83.510317</td>\n",
       "      <td>82.796300</td>\n",
       "      <td>83.570031</td>\n",
       "      <td>83.036450</td>\n",
       "    </tr>\n",
       "    <tr>\n",
       "      <th>1</th>\n",
       "      <td>SVC</td>\n",
       "      <td>93.999827</td>\n",
       "      <td>94.194712</td>\n",
       "      <td>94.068074</td>\n",
       "      <td>93.799624</td>\n",
       "    </tr>\n",
       "    <tr>\n",
       "      <th>2</th>\n",
       "      <td>Decision Tree</td>\n",
       "      <td>98.670465</td>\n",
       "      <td>98.671481</td>\n",
       "      <td>98.682278</td>\n",
       "      <td>98.669766</td>\n",
       "    </tr>\n",
       "    <tr>\n",
       "      <th>3</th>\n",
       "      <td>Random Forest</td>\n",
       "      <td>99.188466</td>\n",
       "      <td>99.197828</td>\n",
       "      <td>99.199874</td>\n",
       "      <td>99.189103</td>\n",
       "    </tr>\n",
       "  </tbody>\n",
       "</table>\n",
       "</div>"
      ],
      "text/plain": [
       "                 Model   Accuracy  Precision     Recall         F1\n",
       "0  Logistic Regression  83.510317  82.796300  83.570031  83.036450\n",
       "1                  SVC  93.999827  94.194712  94.068074  93.799624\n",
       "2        Decision Tree  98.670465  98.671481  98.682278  98.669766\n",
       "3        Random Forest  99.188466  99.197828  99.199874  99.189103"
      ]
     },
     "execution_count": 16,
     "metadata": {},
     "output_type": "execute_result"
    }
   ],
   "source": [
    "scores_df = pd.DataFrame(columns=['Model'], data=['Logistic Regression', 'SVC', 'Decision Tree', 'Random Forest'])\n",
    "scores_df = pd.concat([scores_df, pd.DataFrame(scores, columns=['Accuracy', 'Precision', 'Recall', 'F1'])], axis=1)\n",
    "scores_df"
   ]
  },
  {
   "cell_type": "code",
   "execution_count": 17,
   "id": "4e2dc705",
   "metadata": {},
   "outputs": [
    {
     "data": {
      "text/plain": [
       "array([0, 4, 5, ..., 0, 3, 3])"
      ]
     },
     "execution_count": 17,
     "metadata": {},
     "output_type": "execute_result"
    }
   ],
   "source": [
    "rf2 = RandomForestClassifier()\n",
    "rf2.fit(X_train, y_train)\n",
    "y_pred = lr.predict(X_test)\n",
    "y_pred"
   ]
  },
  {
   "cell_type": "code",
   "execution_count": 18,
   "id": "37d9532a",
   "metadata": {},
   "outputs": [
    {
     "data": {
      "image/png": "[encoded data removed]",
      "text/plain": [
       "<Figure size 800x600 with 2 Axes>"
      ]
     },
     "metadata": {},
     "output_type": "display_data"
    }
   ],
   "source": [
    "cm = confusion_matrix(y_test, y_pred)\n",
    "\n",
    "# Plot confusion matrix using Matplotlib's imshow\n",
    "plt.figure(figsize=(8, 6))\n",
    "plt.imshow(cm, interpolation='nearest', cmap='Blues')\n",
    "plt.title('Confusion Matrix')\n",
    "plt.colorbar()\n",
    "tick_marks = np.arange(len(cm))\n",
    "plt.xticks(tick_marks, tick_marks)\n",
    "plt.yticks(tick_marks, tick_marks)\n",
    "plt.xlabel('Predicted')\n",
    "plt.ylabel('Actual')\n",
    "for i in range(len(cm)):\n",
    "    for j in range(len(cm)):\n",
    "        plt.text(j, i, cm[i, j], ha='center', va='center', color='black')\n",
    "plt.show()"
   ]
  },
  {
   "cell_type": "code",
   "execution_count": 17,
   "id": "a6dce6fe",
   "metadata": {},
   "outputs": [
    {
     "data": {
      "text/plain": [
       "['rf2.pkl']"
      ]
     },
     "execution_count": 17,
     "metadata": {},
     "output_type": "execute_result"
    }
   ],
   "source": [
    "import joblib\n",
    "\n",
    "filename = \"rf2.pkl\"\n",
    "joblib.dump(rf2,filename)"
   ]
  },
  {
   "cell_type": "code",
   "execution_count": null,
   "id": "3c6998ef",
   "metadata": {},
   "outputs": [],
   "source": []
  }
 ],
 "metadata": {
  "kernelspec": {
   "display_name": "Python 3 (ipykernel)",
   "language": "python",
   "name": "python3"
  },
  "language_info": {
   "codemirror_mode": {
    "name": "ipython",
    "version": 3
   },
   "file_extension": ".py",
   "mimetype": "text/x-python",
   "name": "python",
   "nbconvert_exporter": "python",
   "pygments_lexer": "ipython3",
   "version": "3.11.5"
  }
 },
 "nbformat": 4,
 "nbformat_minor": 5
}
